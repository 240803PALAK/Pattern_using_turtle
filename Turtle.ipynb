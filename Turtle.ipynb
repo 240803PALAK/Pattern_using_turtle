{
 "cells": [
  {
   "cell_type": "code",
   "execution_count": 1,
   "id": "e2f94f74-45ac-43d4-8212-e7c8c386dafa",
   "metadata": {},
   "outputs": [],
   "source": [
    "import turtle\n",
    "tk=turtle.Turtle()\n",
    "# Square\n",
    "tk.color(\"blue\",\"#3C9118\")\n",
    "\n",
    "tk.begin_fill()\n",
    "tk.forward(100)\n",
    "tk.left(90)\n",
    "tk.forward(100)\n",
    "tk.left(90)\n",
    "tk.forward(100)\n",
    "tk.left(90)\n",
    "tk.forward(100)\n",
    "\n",
    "tk.penup()\n",
    "tk.forward(100)\n",
    "tk.pendown()\n",
    "\n",
    "tk.forward(100)\n",
    "tk.left(90)\n",
    "tk.forward(100)\n",
    "tk.left(90)\n",
    "tk.forward(100)\n",
    "tk.left(90)\n",
    "tk.forward(100)\n",
    "tk.left(90)\n",
    "tk.end_fill()\n",
    "\n",
    "turtle.done()"
   ]
  },
  {
   "cell_type": "code",
   "execution_count": 1,
   "id": "6fe8ea29-171b-48d7-8442-d6df16001475",
   "metadata": {},
   "outputs": [],
   "source": [
    "import turtle\n",
    "tk=turtle.Turtle()\n",
    "\n",
    "tk.color(\"red\")\n",
    "tk.speed(10)\n",
    "for i in range(100):\n",
    "    tk.forward(300)\n",
    "    tk.left(170)\n",
    "turtle.done()"
   ]
  },
  {
   "cell_type": "code",
   "execution_count": 1,
   "id": "eb330e7b-5051-412b-896e-3458ea28986b",
   "metadata": {},
   "outputs": [],
   "source": [
    "import turtle\n",
    "import math\n",
    "tk=turtle.Turtle()\n",
    "tk.color(\"red\",\"yellow\")\n",
    "tk.speed(10)\n",
    "\n",
    "for i in range(1000):\n",
    "    tk.forward(math.sqrt(i))\n",
    "    tk.left(i%180)\n",
    "turtle.done()"
   ]
  },
  {
   "cell_type": "code",
   "execution_count": 1,
   "id": "501468ba-a8e4-4f47-90ac-67b07518b3e6",
   "metadata": {},
   "outputs": [],
   "source": [
    "import turtle\n",
    "import math\n",
    "tk=turtle.Turtle()\n",
    "tk.color(\"cyan\",\"yellow\")\n",
    "tk.speed(10)\n",
    "\n",
    "for i in range(1000):\n",
    "    tk.forward(math.sqrt(i/10)*25)\n",
    "    tk.left(20)\n",
    "turtle.done()"
   ]
  },
  {
   "cell_type": "code",
   "execution_count": null,
   "id": "eeb482c2-26d5-4225-a199-4fca89610572",
   "metadata": {},
   "outputs": [],
   "source": [
    "import turtle\n",
    "tk=turtle.Turtle()\n",
    "tk.getscreen().bgcolor(\"#3C9118\")\n",
    "tk.color(\"red\",\"yellow\")\n",
    "tk.penup()\n",
    "tk.goto((-200,100))\n",
    "tk.pendown()\n",
    "tk.speed(10)\n",
    "def start(size):\n",
    "    if size<=10:\n",
    "        return\n",
    "    else:\n",
    "        tk.begin_fill()\n",
    "        for i in range(5):\n",
    "            tk.forward(size)\n",
    "            start(size/3)\n",
    "            tk.left(216)\n",
    "        tk.end_fill()\n",
    "start(360)\n",
    "turtle.done()"
   ]
  },
  {
   "cell_type": "code",
   "execution_count": null,
   "id": "94a62b03-fdbb-40d9-b7af-4b27c34ace44",
   "metadata": {},
   "outputs": [],
   "source": []
  }
 ],
 "metadata": {
  "kernelspec": {
   "display_name": "Python 3 (ipykernel)",
   "language": "python",
   "name": "python3"
  },
  "language_info": {
   "codemirror_mode": {
    "name": "ipython",
    "version": 3
   },
   "file_extension": ".py",
   "mimetype": "text/x-python",
   "name": "python",
   "nbconvert_exporter": "python",
   "pygments_lexer": "ipython3",
   "version": "3.12.0"
  }
 },
 "nbformat": 4,
 "nbformat_minor": 5
}
